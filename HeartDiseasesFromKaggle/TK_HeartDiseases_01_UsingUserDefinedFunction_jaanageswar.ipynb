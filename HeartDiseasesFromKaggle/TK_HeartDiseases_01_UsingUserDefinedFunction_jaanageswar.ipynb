{
 "cells": [
  {
   "cell_type": "markdown",
   "id": "7ad0b215-99d0-4da8-8720-854764330808",
   "metadata": {},
   "source": [
    "# Data  Preprocessing"
   ]
  },
  {
   "cell_type": "markdown",
   "id": "77bcb7c4-65e5-47ec-a3b5-21bdd9250330",
   "metadata": {},
   "source": [
    "## Library Imports"
   ]
  },
  {
   "cell_type": "code",
   "execution_count": 62,
   "id": "49a02c80-9cc3-484f-9206-ec9922195f5c",
   "metadata": {},
   "outputs": [],
   "source": [
    "import pandas as pd\n",
    "import matplotlib.pyplot as plt\n",
    "import seaborn as sns\n",
    "from sklearn.model_selection import train_test_split\n",
    "from sklearn.neighbors import KNeighborsClassifier\n",
    "from sklearn.metrics import accuracy_score\n",
    "import numpy as np\n",
    "from sklearn.naive_bayes import MultinomialNB\n",
    "import missingno as msno\n",
    "from sklearn.linear_model import LinearRegression, LogisticRegression\n",
    "from sklearn.preprocessing import StandardScaler\n",
    "from tqdm import tqdm \n",
    "from sklearn.metrics import mean_squared_error, accuracy_score, classification_report,r2_score,confusion_matrix\n"
   ]
  },
  {
   "cell_type": "markdown",
   "id": "1015663f-8a18-4690-a911-63678c56127e",
   "metadata": {},
   "source": [
    "## Data Imports"
   ]
  },
  {
   "cell_type": "code",
   "execution_count": 63,
   "id": "16b638c7-235e-4ee6-8e80-f2612ca88296",
   "metadata": {
    "scrolled": true
   },
   "outputs": [
    {
     "data": {
      "text/plain": [
       "<bound method NDFrame.head of      age  sex  cp trestbps chol fbs restecg thalach exang  oldpeak slope ca  \\\n",
       "0     28    1   2      130  132   0       2     185     0      0.0     ?  ?   \n",
       "1     29    1   2      120  243   0       0     160     0      0.0     ?  ?   \n",
       "2     29    1   2      140    ?   0       0     170     0      0.0     ?  ?   \n",
       "3     30    0   1      170  237   0       1     170     0      0.0     ?  ?   \n",
       "4     31    0   2      100  219   0       1     150     0      0.0     ?  ?   \n",
       "..   ...  ...  ..      ...  ...  ..     ...     ...   ...      ...   ... ..   \n",
       "289   52    1   4      160  331   0       0      94     1      2.5     ?  ?   \n",
       "290   54    0   3      130  294   0       1     100     1      0.0     2  ?   \n",
       "291   56    1   4      155  342   1       0     150     1      3.0     2  ?   \n",
       "292   58    0   2      180  393   0       0     110     1      1.0     2  ?   \n",
       "293   65    1   4      130  275   0       1     115     1      1.0     2  ?   \n",
       "\n",
       "    thal  num         \n",
       "0      ?           0  \n",
       "1      ?           0  \n",
       "2      ?           0  \n",
       "3      6           0  \n",
       "4      ?           0  \n",
       "..   ...         ...  \n",
       "289    ?           1  \n",
       "290    ?           1  \n",
       "291    ?           1  \n",
       "292    7           1  \n",
       "293    ?           1  \n",
       "\n",
       "[294 rows x 14 columns]>"
      ]
     },
     "execution_count": 63,
     "metadata": {},
     "output_type": "execute_result"
    }
   ],
   "source": [
    "heart = pd.read_csv(\"data.csv\")\n",
    "heart_copy =heart.copy()\n",
    "heart.head"
   ]
  },
  {
   "cell_type": "markdown",
   "id": "5241245c-6fe3-4758-8897-7cba57276da8",
   "metadata": {},
   "source": [
    "## EDA"
   ]
  },
  {
   "cell_type": "markdown",
   "id": "85e89a8b-25f4-41ab-9550-821c99d323ee",
   "metadata": {},
   "source": [
    "* Bivariate graph using seaborn"
   ]
  },
  {
   "cell_type": "code",
   "execution_count": 64,
   "id": "8ce0a440-2ddb-476f-acab-5f39c2ca3bf6",
   "metadata": {},
   "outputs": [
    {
     "data": {
      "text/html": [
       "<div>\n",
       "<style scoped>\n",
       "    .dataframe tbody tr th:only-of-type {\n",
       "        vertical-align: middle;\n",
       "    }\n",
       "\n",
       "    .dataframe tbody tr th {\n",
       "        vertical-align: top;\n",
       "    }\n",
       "\n",
       "    .dataframe thead th {\n",
       "        text-align: right;\n",
       "    }\n",
       "</style>\n",
       "<table border=\"1\" class=\"dataframe\">\n",
       "  <thead>\n",
       "    <tr style=\"text-align: right;\">\n",
       "      <th></th>\n",
       "      <th>age</th>\n",
       "      <th>sex</th>\n",
       "      <th>cp</th>\n",
       "      <th>trestbps</th>\n",
       "      <th>chol</th>\n",
       "      <th>fbs</th>\n",
       "      <th>restecg</th>\n",
       "      <th>thalach</th>\n",
       "      <th>exang</th>\n",
       "      <th>oldpeak</th>\n",
       "      <th>slope</th>\n",
       "      <th>ca</th>\n",
       "      <th>thal</th>\n",
       "      <th>num</th>\n",
       "    </tr>\n",
       "  </thead>\n",
       "  <tbody>\n",
       "    <tr>\n",
       "      <th>0</th>\n",
       "      <td>28</td>\n",
       "      <td>male</td>\n",
       "      <td>2</td>\n",
       "      <td>130</td>\n",
       "      <td>132</td>\n",
       "      <td>0</td>\n",
       "      <td>2</td>\n",
       "      <td>185</td>\n",
       "      <td>0</td>\n",
       "      <td>0.0</td>\n",
       "      <td>?</td>\n",
       "      <td>?</td>\n",
       "      <td>?</td>\n",
       "      <td>0</td>\n",
       "    </tr>\n",
       "    <tr>\n",
       "      <th>1</th>\n",
       "      <td>29</td>\n",
       "      <td>male</td>\n",
       "      <td>2</td>\n",
       "      <td>120</td>\n",
       "      <td>243</td>\n",
       "      <td>0</td>\n",
       "      <td>0</td>\n",
       "      <td>160</td>\n",
       "      <td>0</td>\n",
       "      <td>0.0</td>\n",
       "      <td>?</td>\n",
       "      <td>?</td>\n",
       "      <td>?</td>\n",
       "      <td>0</td>\n",
       "    </tr>\n",
       "    <tr>\n",
       "      <th>2</th>\n",
       "      <td>29</td>\n",
       "      <td>male</td>\n",
       "      <td>2</td>\n",
       "      <td>140</td>\n",
       "      <td>?</td>\n",
       "      <td>0</td>\n",
       "      <td>0</td>\n",
       "      <td>170</td>\n",
       "      <td>0</td>\n",
       "      <td>0.0</td>\n",
       "      <td>?</td>\n",
       "      <td>?</td>\n",
       "      <td>?</td>\n",
       "      <td>0</td>\n",
       "    </tr>\n",
       "    <tr>\n",
       "      <th>3</th>\n",
       "      <td>30</td>\n",
       "      <td>female</td>\n",
       "      <td>1</td>\n",
       "      <td>170</td>\n",
       "      <td>237</td>\n",
       "      <td>0</td>\n",
       "      <td>1</td>\n",
       "      <td>170</td>\n",
       "      <td>0</td>\n",
       "      <td>0.0</td>\n",
       "      <td>?</td>\n",
       "      <td>?</td>\n",
       "      <td>6</td>\n",
       "      <td>0</td>\n",
       "    </tr>\n",
       "    <tr>\n",
       "      <th>4</th>\n",
       "      <td>31</td>\n",
       "      <td>female</td>\n",
       "      <td>2</td>\n",
       "      <td>100</td>\n",
       "      <td>219</td>\n",
       "      <td>0</td>\n",
       "      <td>1</td>\n",
       "      <td>150</td>\n",
       "      <td>0</td>\n",
       "      <td>0.0</td>\n",
       "      <td>?</td>\n",
       "      <td>?</td>\n",
       "      <td>?</td>\n",
       "      <td>0</td>\n",
       "    </tr>\n",
       "    <tr>\n",
       "      <th>...</th>\n",
       "      <td>...</td>\n",
       "      <td>...</td>\n",
       "      <td>...</td>\n",
       "      <td>...</td>\n",
       "      <td>...</td>\n",
       "      <td>...</td>\n",
       "      <td>...</td>\n",
       "      <td>...</td>\n",
       "      <td>...</td>\n",
       "      <td>...</td>\n",
       "      <td>...</td>\n",
       "      <td>...</td>\n",
       "      <td>...</td>\n",
       "      <td>...</td>\n",
       "    </tr>\n",
       "    <tr>\n",
       "      <th>289</th>\n",
       "      <td>52</td>\n",
       "      <td>male</td>\n",
       "      <td>4</td>\n",
       "      <td>160</td>\n",
       "      <td>331</td>\n",
       "      <td>0</td>\n",
       "      <td>0</td>\n",
       "      <td>94</td>\n",
       "      <td>1</td>\n",
       "      <td>2.5</td>\n",
       "      <td>?</td>\n",
       "      <td>?</td>\n",
       "      <td>?</td>\n",
       "      <td>1</td>\n",
       "    </tr>\n",
       "    <tr>\n",
       "      <th>290</th>\n",
       "      <td>54</td>\n",
       "      <td>female</td>\n",
       "      <td>3</td>\n",
       "      <td>130</td>\n",
       "      <td>294</td>\n",
       "      <td>0</td>\n",
       "      <td>1</td>\n",
       "      <td>100</td>\n",
       "      <td>1</td>\n",
       "      <td>0.0</td>\n",
       "      <td>2</td>\n",
       "      <td>?</td>\n",
       "      <td>?</td>\n",
       "      <td>1</td>\n",
       "    </tr>\n",
       "    <tr>\n",
       "      <th>291</th>\n",
       "      <td>56</td>\n",
       "      <td>male</td>\n",
       "      <td>4</td>\n",
       "      <td>155</td>\n",
       "      <td>342</td>\n",
       "      <td>1</td>\n",
       "      <td>0</td>\n",
       "      <td>150</td>\n",
       "      <td>1</td>\n",
       "      <td>3.0</td>\n",
       "      <td>2</td>\n",
       "      <td>?</td>\n",
       "      <td>?</td>\n",
       "      <td>1</td>\n",
       "    </tr>\n",
       "    <tr>\n",
       "      <th>292</th>\n",
       "      <td>58</td>\n",
       "      <td>female</td>\n",
       "      <td>2</td>\n",
       "      <td>180</td>\n",
       "      <td>393</td>\n",
       "      <td>0</td>\n",
       "      <td>0</td>\n",
       "      <td>110</td>\n",
       "      <td>1</td>\n",
       "      <td>1.0</td>\n",
       "      <td>2</td>\n",
       "      <td>?</td>\n",
       "      <td>7</td>\n",
       "      <td>1</td>\n",
       "    </tr>\n",
       "    <tr>\n",
       "      <th>293</th>\n",
       "      <td>65</td>\n",
       "      <td>male</td>\n",
       "      <td>4</td>\n",
       "      <td>130</td>\n",
       "      <td>275</td>\n",
       "      <td>0</td>\n",
       "      <td>1</td>\n",
       "      <td>115</td>\n",
       "      <td>1</td>\n",
       "      <td>1.0</td>\n",
       "      <td>2</td>\n",
       "      <td>?</td>\n",
       "      <td>?</td>\n",
       "      <td>1</td>\n",
       "    </tr>\n",
       "  </tbody>\n",
       "</table>\n",
       "<p>294 rows × 14 columns</p>\n",
       "</div>"
      ],
      "text/plain": [
       "     age     sex  cp trestbps chol fbs restecg thalach exang  oldpeak slope  \\\n",
       "0     28    male   2      130  132   0       2     185     0      0.0     ?   \n",
       "1     29    male   2      120  243   0       0     160     0      0.0     ?   \n",
       "2     29    male   2      140    ?   0       0     170     0      0.0     ?   \n",
       "3     30  female   1      170  237   0       1     170     0      0.0     ?   \n",
       "4     31  female   2      100  219   0       1     150     0      0.0     ?   \n",
       "..   ...     ...  ..      ...  ...  ..     ...     ...   ...      ...   ...   \n",
       "289   52    male   4      160  331   0       0      94     1      2.5     ?   \n",
       "290   54  female   3      130  294   0       1     100     1      0.0     2   \n",
       "291   56    male   4      155  342   1       0     150     1      3.0     2   \n",
       "292   58  female   2      180  393   0       0     110     1      1.0     2   \n",
       "293   65    male   4      130  275   0       1     115     1      1.0     2   \n",
       "\n",
       "    ca thal  num         \n",
       "0    ?    ?           0  \n",
       "1    ?    ?           0  \n",
       "2    ?    ?           0  \n",
       "3    ?    6           0  \n",
       "4    ?    ?           0  \n",
       "..  ..  ...         ...  \n",
       "289  ?    ?           1  \n",
       "290  ?    ?           1  \n",
       "291  ?    ?           1  \n",
       "292  ?    7           1  \n",
       "293  ?    ?           1  \n",
       "\n",
       "[294 rows x 14 columns]"
      ]
     },
     "execution_count": 64,
     "metadata": {},
     "output_type": "execute_result"
    }
   ],
   "source": [
    "# heart['sex_label'] = heart['sex'].map({0: 'female', 1: 'male'}) #online code\n",
    "heart_copy['sex'] = heart['sex'].map({0:'female' , 1:'male'})\n",
    "heart_copy"
   ]
  },
  {
   "cell_type": "code",
   "execution_count": 65,
   "id": "c3bf0415-b99c-4c54-b1f3-549c8061b6f2",
   "metadata": {},
   "outputs": [
    {
     "data": {
      "text/plain": [
       "(sex\n",
       " 1    213\n",
       " 0     81\n",
       " Name: count, dtype: int64,\n",
       " num       \n",
       " 0    188\n",
       " 1    106\n",
       " Name: count, dtype: int64)"
      ]
     },
     "execution_count": 65,
     "metadata": {},
     "output_type": "execute_result"
    }
   ],
   "source": [
    "heart.sex.value_counts(),heart[\"num       \"].value_counts()"
   ]
  },
  {
   "cell_type": "code",
   "execution_count": 66,
   "id": "c50d1f7a-c22a-4a52-a45c-0a3500a6a9e1",
   "metadata": {},
   "outputs": [
    {
     "data": {
      "image/png": "[encoded data removed]",
      "text/plain": [
       "<Figure size 640x480 with 1 Axes>"
      ]
     },
     "metadata": {},
     "output_type": "display_data"
    }
   ],
   "source": [
    "sns.scatterplot(x = 'age',y = 'cp',data = heart_copy,hue = 'sex')\n",
    "plt.savefig(\"scatterplot.png\")"
   ]
  },
  {
   "cell_type": "code",
   "execution_count": 67,
   "id": "948ad7d7-824a-463e-86b9-253878ac4bca",
   "metadata": {},
   "outputs": [
    {
     "data": {
      "text/plain": [
       "<Axes: xlabel='age', ylabel='trestbps'>"
      ]
     },
     "execution_count": 67,
     "metadata": {},
     "output_type": "execute_result"
    },
    {
     "data": {
      "image/png": "[encoded data removed]",
      "text/plain": [
       "<Figure size 640x480 with 1 Axes>"
      ]
     },
     "metadata": {},
     "output_type": "display_data"
    }
   ],
   "source": [
    "sns.scatterplot(x= \"age\",y = \"trestbps\",data = heart,hue = \"sex\" )"
   ]
  },
  {
   "cell_type": "code",
   "execution_count": 68,
   "id": "b9ef71b6-dc37-4bed-b0aa-13f4ce23ee1e",
   "metadata": {},
   "outputs": [
    {
     "data": {
      "text/html": [
       "<div>\n",
       "<style scoped>\n",
       "    .dataframe tbody tr th:only-of-type {\n",
       "        vertical-align: middle;\n",
       "    }\n",
       "\n",
       "    .dataframe tbody tr th {\n",
       "        vertical-align: top;\n",
       "    }\n",
       "\n",
       "    .dataframe thead th {\n",
       "        text-align: right;\n",
       "    }\n",
       "</style>\n",
       "<table border=\"1\" class=\"dataframe\">\n",
       "  <thead>\n",
       "    <tr style=\"text-align: right;\">\n",
       "      <th></th>\n",
       "      <th>age</th>\n",
       "      <th>sex</th>\n",
       "      <th>cp</th>\n",
       "      <th>oldpeak</th>\n",
       "      <th>num</th>\n",
       "    </tr>\n",
       "  </thead>\n",
       "  <tbody>\n",
       "    <tr>\n",
       "      <th>count</th>\n",
       "      <td>294.000000</td>\n",
       "      <td>294.000000</td>\n",
       "      <td>294.000000</td>\n",
       "      <td>294.000000</td>\n",
       "      <td>294.000000</td>\n",
       "    </tr>\n",
       "    <tr>\n",
       "      <th>mean</th>\n",
       "      <td>47.826531</td>\n",
       "      <td>0.724490</td>\n",
       "      <td>2.982993</td>\n",
       "      <td>0.586054</td>\n",
       "      <td>0.360544</td>\n",
       "    </tr>\n",
       "    <tr>\n",
       "      <th>std</th>\n",
       "      <td>7.811812</td>\n",
       "      <td>0.447533</td>\n",
       "      <td>0.965117</td>\n",
       "      <td>0.908648</td>\n",
       "      <td>0.480977</td>\n",
       "    </tr>\n",
       "    <tr>\n",
       "      <th>min</th>\n",
       "      <td>28.000000</td>\n",
       "      <td>0.000000</td>\n",
       "      <td>1.000000</td>\n",
       "      <td>0.000000</td>\n",
       "      <td>0.000000</td>\n",
       "    </tr>\n",
       "    <tr>\n",
       "      <th>25%</th>\n",
       "      <td>42.000000</td>\n",
       "      <td>0.000000</td>\n",
       "      <td>2.000000</td>\n",
       "      <td>0.000000</td>\n",
       "      <td>0.000000</td>\n",
       "    </tr>\n",
       "    <tr>\n",
       "      <th>50%</th>\n",
       "      <td>49.000000</td>\n",
       "      <td>1.000000</td>\n",
       "      <td>3.000000</td>\n",
       "      <td>0.000000</td>\n",
       "      <td>0.000000</td>\n",
       "    </tr>\n",
       "    <tr>\n",
       "      <th>75%</th>\n",
       "      <td>54.000000</td>\n",
       "      <td>1.000000</td>\n",
       "      <td>4.000000</td>\n",
       "      <td>1.000000</td>\n",
       "      <td>1.000000</td>\n",
       "    </tr>\n",
       "    <tr>\n",
       "      <th>max</th>\n",
       "      <td>66.000000</td>\n",
       "      <td>1.000000</td>\n",
       "      <td>4.000000</td>\n",
       "      <td>5.000000</td>\n",
       "      <td>1.000000</td>\n",
       "    </tr>\n",
       "  </tbody>\n",
       "</table>\n",
       "</div>"
      ],
      "text/plain": [
       "              age         sex          cp     oldpeak  num       \n",
       "count  294.000000  294.000000  294.000000  294.000000  294.000000\n",
       "mean    47.826531    0.724490    2.982993    0.586054    0.360544\n",
       "std      7.811812    0.447533    0.965117    0.908648    0.480977\n",
       "min     28.000000    0.000000    1.000000    0.000000    0.000000\n",
       "25%     42.000000    0.000000    2.000000    0.000000    0.000000\n",
       "50%     49.000000    1.000000    3.000000    0.000000    0.000000\n",
       "75%     54.000000    1.000000    4.000000    1.000000    1.000000\n",
       "max     66.000000    1.000000    4.000000    5.000000    1.000000"
      ]
     },
     "execution_count": 68,
     "metadata": {},
     "output_type": "execute_result"
    }
   ],
   "source": [
    "heart.describe()"
   ]
  },
  {
   "cell_type": "code",
   "execution_count": 69,
   "id": "f19d5adf-20d4-4828-ba10-015c9cc7ad72",
   "metadata": {},
   "outputs": [
    {
     "name": "stdout",
     "output_type": "stream",
     "text": [
      "<class 'pandas.core.frame.DataFrame'>\n",
      "RangeIndex: 294 entries, 0 to 293\n",
      "Data columns (total 14 columns):\n",
      " #   Column      Non-Null Count  Dtype  \n",
      "---  ------      --------------  -----  \n",
      " 0   age         294 non-null    int64  \n",
      " 1   sex         294 non-null    int64  \n",
      " 2   cp          294 non-null    int64  \n",
      " 3   trestbps    294 non-null    object \n",
      " 4   chol        294 non-null    object \n",
      " 5   fbs         294 non-null    object \n",
      " 6   restecg     294 non-null    object \n",
      " 7   thalach     294 non-null    object \n",
      " 8   exang       294 non-null    object \n",
      " 9   oldpeak     294 non-null    float64\n",
      " 10  slope       294 non-null    object \n",
      " 11  ca          294 non-null    object \n",
      " 12  thal        294 non-null    object \n",
      " 13  num         294 non-null    int64  \n",
      "dtypes: float64(1), int64(4), object(9)\n",
      "memory usage: 32.3+ KB\n"
     ]
    }
   ],
   "source": [
    "heart.info()"
   ]
  },
  {
   "cell_type": "code",
   "execution_count": 70,
   "id": "086c72aa-bf01-4d41-8f00-4b7f18060e3a",
   "metadata": {},
   "outputs": [
    {
     "data": {
      "text/plain": [
       "age           0\n",
       "sex           0\n",
       "cp            0\n",
       "trestbps      0\n",
       "chol          0\n",
       "fbs           0\n",
       "restecg       0\n",
       "thalach       0\n",
       "exang         0\n",
       "oldpeak       0\n",
       "slope         0\n",
       "ca            0\n",
       "thal          0\n",
       "num           0\n",
       "dtype: int64"
      ]
     },
     "execution_count": 70,
     "metadata": {},
     "output_type": "execute_result"
    }
   ],
   "source": [
    "heart.isnull().sum()#Check total null values in each column"
   ]
  },
  {
   "cell_type": "markdown",
   "id": "58064486-9d00-4aac-adf5-854ea29b3b8b",
   "metadata": {},
   "source": [
    "* Categorical plot are uses catogrical data"
   ]
  },
  {
   "cell_type": "code",
   "execution_count": 71,
   "id": "acd46a49-3945-47cf-8c2a-ad1922b58361",
   "metadata": {},
   "outputs": [
    {
     "data": {
      "text/plain": [
       "<seaborn.axisgrid.FacetGrid at 0x2316917be00>"
      ]
     },
     "execution_count": 71,
     "metadata": {},
     "output_type": "execute_result"
    },
    {
     "data": {
      "image/png": "[encoded data removed]",
      "text/plain": [
       "<Figure size 511.111x500 with 1 Axes>"
      ]
     },
     "metadata": {},
     "output_type": "display_data"
    }
   ],
   "source": [
    "sns.catplot(x= \"sex\",y = \"trestbps\",data = heart)"
   ]
  },
  {
   "cell_type": "code",
   "execution_count": 72,
   "id": "2e08633b-f7fb-4458-b892-01cd4b225e8e",
   "metadata": {},
   "outputs": [
    {
     "data": {
      "text/plain": [
       "222    100\n",
       "4      100\n",
       "105    100\n",
       "189    100\n",
       "59     100\n",
       "      ... \n",
       "35     190\n",
       "245    200\n",
       "196     92\n",
       "11      98\n",
       "90       ?\n",
       "Name: trestbps, Length: 294, dtype: object"
      ]
     },
     "execution_count": 72,
     "metadata": {},
     "output_type": "execute_result"
    }
   ],
   "source": [
    "heart_sorted = heart_copy.sort_values(by = \"trestbps\")\n",
    "heart_sorted.trestbps"
   ]
  },
  {
   "cell_type": "markdown",
   "id": "a72daeb7-dc0b-48ef-ae54-4df2bf8ece34",
   "metadata": {},
   "source": [
    "* sorted plotting"
   ]
  },
  {
   "cell_type": "code",
   "execution_count": 73,
   "id": "640d3a60-240f-46f2-86eb-bbd46efe8ff2",
   "metadata": {},
   "outputs": [
    {
     "data": {
      "text/plain": [
       "<Axes: xlabel='num       ', ylabel='trestbps'>"
      ]
     },
     "execution_count": 73,
     "metadata": {},
     "output_type": "execute_result"
    },
    {
     "data": {
      "image/png": "[encoded data removed]",
      "text/plain": [
       "<Figure size 640x480 with 1 Axes>"
      ]
     },
     "metadata": {},
     "output_type": "display_data"
    }
   ],
   "source": [
    "sns.scatterplot(x = heart_sorted['num       '],y = heart_sorted.trestbps )\n"
   ]
  },
  {
   "cell_type": "code",
   "execution_count": null,
   "id": "37757500-5149-4307-a280-bdfa3c7274bb",
   "metadata": {},
   "outputs": [],
   "source": []
  },
  {
   "cell_type": "code",
   "execution_count": 74,
   "id": "4faf255b-a5cd-4573-b59b-ed470d83a73d",
   "metadata": {},
   "outputs": [
    {
     "data": {
      "text/html": [
       "<div>\n",
       "<style scoped>\n",
       "    .dataframe tbody tr th:only-of-type {\n",
       "        vertical-align: middle;\n",
       "    }\n",
       "\n",
       "    .dataframe tbody tr th {\n",
       "        vertical-align: top;\n",
       "    }\n",
       "\n",
       "    .dataframe thead th {\n",
       "        text-align: right;\n",
       "    }\n",
       "</style>\n",
       "<table border=\"1\" class=\"dataframe\">\n",
       "  <thead>\n",
       "    <tr style=\"text-align: right;\">\n",
       "      <th></th>\n",
       "      <th>age</th>\n",
       "      <th>sex</th>\n",
       "      <th>cp</th>\n",
       "      <th>trestbps</th>\n",
       "      <th>chol</th>\n",
       "      <th>fbs</th>\n",
       "      <th>restecg</th>\n",
       "      <th>thalach</th>\n",
       "      <th>exang</th>\n",
       "      <th>oldpeak</th>\n",
       "      <th>slope</th>\n",
       "      <th>ca</th>\n",
       "      <th>thal</th>\n",
       "      <th>num</th>\n",
       "    </tr>\n",
       "  </thead>\n",
       "  <tbody>\n",
       "    <tr>\n",
       "      <th>0</th>\n",
       "      <td>28</td>\n",
       "      <td>1</td>\n",
       "      <td>2</td>\n",
       "      <td>130</td>\n",
       "      <td>132</td>\n",
       "      <td>0</td>\n",
       "      <td>2</td>\n",
       "      <td>185</td>\n",
       "      <td>0</td>\n",
       "      <td>0.0</td>\n",
       "      <td>?</td>\n",
       "      <td>?</td>\n",
       "      <td>?</td>\n",
       "      <td>0</td>\n",
       "    </tr>\n",
       "    <tr>\n",
       "      <th>1</th>\n",
       "      <td>29</td>\n",
       "      <td>1</td>\n",
       "      <td>2</td>\n",
       "      <td>120</td>\n",
       "      <td>243</td>\n",
       "      <td>0</td>\n",
       "      <td>0</td>\n",
       "      <td>160</td>\n",
       "      <td>0</td>\n",
       "      <td>0.0</td>\n",
       "      <td>?</td>\n",
       "      <td>?</td>\n",
       "      <td>?</td>\n",
       "      <td>0</td>\n",
       "    </tr>\n",
       "    <tr>\n",
       "      <th>2</th>\n",
       "      <td>29</td>\n",
       "      <td>1</td>\n",
       "      <td>2</td>\n",
       "      <td>140</td>\n",
       "      <td>?</td>\n",
       "      <td>0</td>\n",
       "      <td>0</td>\n",
       "      <td>170</td>\n",
       "      <td>0</td>\n",
       "      <td>0.0</td>\n",
       "      <td>?</td>\n",
       "      <td>?</td>\n",
       "      <td>?</td>\n",
       "      <td>0</td>\n",
       "    </tr>\n",
       "    <tr>\n",
       "      <th>3</th>\n",
       "      <td>30</td>\n",
       "      <td>0</td>\n",
       "      <td>1</td>\n",
       "      <td>170</td>\n",
       "      <td>237</td>\n",
       "      <td>0</td>\n",
       "      <td>1</td>\n",
       "      <td>170</td>\n",
       "      <td>0</td>\n",
       "      <td>0.0</td>\n",
       "      <td>?</td>\n",
       "      <td>?</td>\n",
       "      <td>6</td>\n",
       "      <td>0</td>\n",
       "    </tr>\n",
       "    <tr>\n",
       "      <th>4</th>\n",
       "      <td>31</td>\n",
       "      <td>0</td>\n",
       "      <td>2</td>\n",
       "      <td>100</td>\n",
       "      <td>219</td>\n",
       "      <td>0</td>\n",
       "      <td>1</td>\n",
       "      <td>150</td>\n",
       "      <td>0</td>\n",
       "      <td>0.0</td>\n",
       "      <td>?</td>\n",
       "      <td>?</td>\n",
       "      <td>?</td>\n",
       "      <td>0</td>\n",
       "    </tr>\n",
       "  </tbody>\n",
       "</table>\n",
       "</div>"
      ],
      "text/plain": [
       "   age  sex  cp trestbps chol fbs restecg thalach exang  oldpeak slope ca  \\\n",
       "0   28    1   2      130  132   0       2     185     0      0.0     ?  ?   \n",
       "1   29    1   2      120  243   0       0     160     0      0.0     ?  ?   \n",
       "2   29    1   2      140    ?   0       0     170     0      0.0     ?  ?   \n",
       "3   30    0   1      170  237   0       1     170     0      0.0     ?  ?   \n",
       "4   31    0   2      100  219   0       1     150     0      0.0     ?  ?   \n",
       "\n",
       "  thal  num         \n",
       "0    ?           0  \n",
       "1    ?           0  \n",
       "2    ?           0  \n",
       "3    6           0  \n",
       "4    ?           0  "
      ]
     },
     "execution_count": 74,
     "metadata": {},
     "output_type": "execute_result"
    }
   ],
   "source": [
    "heart.head()"
   ]
  },
  {
   "cell_type": "code",
   "execution_count": 75,
   "id": "b22862d3-816c-49e1-9a32-ef2cbb0a3dda",
   "metadata": {},
   "outputs": [
    {
     "data": {
      "text/plain": [
       "(293, 14)"
      ]
     },
     "execution_count": 75,
     "metadata": {},
     "output_type": "execute_result"
    }
   ],
   "source": [
    "heart_copy.drop_duplicates().shape"
   ]
  },
  {
   "cell_type": "code",
   "execution_count": 76,
   "id": "0000b46b-6469-40f3-89ec-ec1fe00b83cd",
   "metadata": {},
   "outputs": [
    {
     "data": {
      "text/plain": [
       "(              age         sex          cp     oldpeak  num       \n",
       " count  294.000000  294.000000  294.000000  294.000000  294.000000\n",
       " mean    47.826531    0.724490    2.982993    0.586054    0.360544\n",
       " std      7.811812    0.447533    0.965117    0.908648    0.480977\n",
       " min     28.000000    0.000000    1.000000    0.000000    0.000000\n",
       " 25%     42.000000    0.000000    2.000000    0.000000    0.000000\n",
       " 50%     49.000000    1.000000    3.000000    0.000000    0.000000\n",
       " 75%     54.000000    1.000000    4.000000    1.000000    1.000000\n",
       " max     66.000000    1.000000    4.000000    5.000000    1.000000,\n",
       "               age          cp     oldpeak  num       \n",
       " count  294.000000  294.000000  294.000000  294.000000\n",
       " mean    47.826531    2.982993    0.586054    0.360544\n",
       " std      7.811812    0.965117    0.908648    0.480977\n",
       " min     28.000000    1.000000    0.000000    0.000000\n",
       " 25%     42.000000    2.000000    0.000000    0.000000\n",
       " 50%     49.000000    3.000000    0.000000    0.000000\n",
       " 75%     54.000000    4.000000    1.000000    1.000000\n",
       " max     66.000000    4.000000    5.000000    1.000000)"
      ]
     },
     "execution_count": 76,
     "metadata": {},
     "output_type": "execute_result"
    }
   ],
   "source": [
    "heart.describe(),heart_copy.describe()"
   ]
  },
  {
   "cell_type": "markdown",
   "id": "09896993-7ef0-4592-9bf1-060deb07706b",
   "metadata": {},
   "source": [
    "## Handling Missing Values"
   ]
  },
  {
   "cell_type": "code",
   "execution_count": 77,
   "id": "36896422-12fa-4101-98da-4f98c8999e44",
   "metadata": {},
   "outputs": [
    {
     "name": "stdout",
     "output_type": "stream",
     "text": [
      "The age has none: 0 and ?: 0 \n",
      "\n",
      "The sex has none: 0 and ?: 0 \n",
      "\n",
      "The cp has none: 0 and ?: 0 \n",
      "\n",
      "The trestbps has none: 0 and ?: 1 \n",
      "\n",
      "The chol has none: 0 and ?: 23 \n",
      "\n",
      "The fbs has none: 0 and ?: 8 \n",
      "\n",
      "The restecg has none: 0 and ?: 1 \n",
      "\n",
      "The thalach has none: 0 and ?: 1 \n",
      "\n",
      "The exang has none: 0 and ?: 1 \n",
      "\n",
      "The oldpeak has none: 0 and ?: 0 \n",
      "\n",
      "The slope has none: 0 and ?: 190 \n",
      "\n",
      "The ca has none: 0 and ?: 291 \n",
      "\n",
      "The thal has none: 0 and ?: 266 \n",
      "\n",
      "The num        has none: 0 and ?: 0 \n",
      "\n"
     ]
    }
   ],
   "source": [
    "for val,col in heart.items():\n",
    "    sumofnan = 0\n",
    "    sumofq = 0\n",
    "    if val == val:\n",
    "        for c in col:\n",
    "            if c == None:\n",
    "                sumofnan += 1\n",
    "            elif c == \"?\":\n",
    "                sumofq += 1\n",
    "        print(f\"The {val} has none: {sumofnan} and ?: {sumofq}\",'\\n')\n",
    "                "
   ]
  },
  {
   "cell_type": "markdown",
   "id": "376c52d0-c8d3-4ff5-8500-45eaa473dcac",
   "metadata": {},
   "source": [
    "* To change value one by one by replace method"
   ]
  },
  {
   "cell_type": "code",
   "execution_count": 78,
   "id": "7c19008d-2467-4104-891b-aff33310ab3a",
   "metadata": {},
   "outputs": [
    {
     "name": "stderr",
     "output_type": "stream",
     "text": [
      "C:\\Users\\bavit\\AppData\\Local\\Temp\\ipykernel_10792\\725616963.py:1: FutureWarning: A value is trying to be set on a copy of a DataFrame or Series through chained assignment using an inplace method.\n",
      "The behavior will change in pandas 3.0. This inplace method will never work because the intermediate object on which we are setting values always behaves as a copy.\n",
      "\n",
      "For example, when doing 'df[col].method(value, inplace=True)', try using 'df.method({col: value}, inplace=True)' or df[col] = df[col].method(value) instead, to perform the operation inplace on the original object.\n",
      "\n",
      "\n",
      "  heart.trestbps.replace('?',heart.cp.mean(),inplace = True)\n",
      "C:\\Users\\bavit\\AppData\\Local\\Temp\\ipykernel_10792\\725616963.py:2: FutureWarning: A value is trying to be set on a copy of a DataFrame or Series through chained assignment using an inplace method.\n",
      "The behavior will change in pandas 3.0. This inplace method will never work because the intermediate object on which we are setting values always behaves as a copy.\n",
      "\n",
      "For example, when doing 'df[col].method(value, inplace=True)', try using 'df.method({col: value}, inplace=True)' or df[col] = df[col].method(value) instead, to perform the operation inplace on the original object.\n",
      "\n",
      "\n",
      "  heart.slope.replace('?',heart.cp.mean(),inplace = True)\n"
     ]
    }
   ],
   "source": [
    "heart.trestbps.replace('?',heart.cp.mean(),inplace = True)\n",
    "heart.slope.replace('?',heart.cp.mean(),inplace = True)"
   ]
  },
  {
   "cell_type": "markdown",
   "id": "2559bc42-91dd-497a-9298-f359429e2eec",
   "metadata": {},
   "source": [
    "* To change value totally by replace method"
   ]
  },
  {
   "cell_type": "code",
   "execution_count": 79,
   "id": "550fa7a6-6124-45c1-abd5-f5f9bf6bfeb9",
   "metadata": {},
   "outputs": [
    {
     "data": {
      "text/html": [
       "<div>\n",
       "<style scoped>\n",
       "    .dataframe tbody tr th:only-of-type {\n",
       "        vertical-align: middle;\n",
       "    }\n",
       "\n",
       "    .dataframe tbody tr th {\n",
       "        vertical-align: top;\n",
       "    }\n",
       "\n",
       "    .dataframe thead th {\n",
       "        text-align: right;\n",
       "    }\n",
       "</style>\n",
       "<table border=\"1\" class=\"dataframe\">\n",
       "  <thead>\n",
       "    <tr style=\"text-align: right;\">\n",
       "      <th></th>\n",
       "      <th>age</th>\n",
       "      <th>sex</th>\n",
       "      <th>cp</th>\n",
       "      <th>trestbps</th>\n",
       "      <th>chol</th>\n",
       "      <th>fbs</th>\n",
       "      <th>restecg</th>\n",
       "      <th>thalach</th>\n",
       "      <th>exang</th>\n",
       "      <th>oldpeak</th>\n",
       "      <th>slope</th>\n",
       "      <th>ca</th>\n",
       "      <th>thal</th>\n",
       "      <th>num</th>\n",
       "    </tr>\n",
       "  </thead>\n",
       "  <tbody>\n",
       "    <tr>\n",
       "      <th>0</th>\n",
       "      <td>28</td>\n",
       "      <td>1</td>\n",
       "      <td>2</td>\n",
       "      <td>130</td>\n",
       "      <td>132</td>\n",
       "      <td>0</td>\n",
       "      <td>2</td>\n",
       "      <td>185</td>\n",
       "      <td>0</td>\n",
       "      <td>0.0</td>\n",
       "      <td>2.982993</td>\n",
       "      <td>2.982993</td>\n",
       "      <td>2.982993</td>\n",
       "      <td>0</td>\n",
       "    </tr>\n",
       "    <tr>\n",
       "      <th>1</th>\n",
       "      <td>29</td>\n",
       "      <td>1</td>\n",
       "      <td>2</td>\n",
       "      <td>120</td>\n",
       "      <td>243</td>\n",
       "      <td>0</td>\n",
       "      <td>0</td>\n",
       "      <td>160</td>\n",
       "      <td>0</td>\n",
       "      <td>0.0</td>\n",
       "      <td>2.982993</td>\n",
       "      <td>2.982993</td>\n",
       "      <td>2.982993</td>\n",
       "      <td>0</td>\n",
       "    </tr>\n",
       "    <tr>\n",
       "      <th>2</th>\n",
       "      <td>29</td>\n",
       "      <td>1</td>\n",
       "      <td>2</td>\n",
       "      <td>140</td>\n",
       "      <td>2.982993</td>\n",
       "      <td>0</td>\n",
       "      <td>0</td>\n",
       "      <td>170</td>\n",
       "      <td>0</td>\n",
       "      <td>0.0</td>\n",
       "      <td>2.982993</td>\n",
       "      <td>2.982993</td>\n",
       "      <td>2.982993</td>\n",
       "      <td>0</td>\n",
       "    </tr>\n",
       "    <tr>\n",
       "      <th>3</th>\n",
       "      <td>30</td>\n",
       "      <td>0</td>\n",
       "      <td>1</td>\n",
       "      <td>170</td>\n",
       "      <td>237</td>\n",
       "      <td>0</td>\n",
       "      <td>1</td>\n",
       "      <td>170</td>\n",
       "      <td>0</td>\n",
       "      <td>0.0</td>\n",
       "      <td>2.982993</td>\n",
       "      <td>2.982993</td>\n",
       "      <td>6</td>\n",
       "      <td>0</td>\n",
       "    </tr>\n",
       "    <tr>\n",
       "      <th>4</th>\n",
       "      <td>31</td>\n",
       "      <td>0</td>\n",
       "      <td>2</td>\n",
       "      <td>100</td>\n",
       "      <td>219</td>\n",
       "      <td>0</td>\n",
       "      <td>1</td>\n",
       "      <td>150</td>\n",
       "      <td>0</td>\n",
       "      <td>0.0</td>\n",
       "      <td>2.982993</td>\n",
       "      <td>2.982993</td>\n",
       "      <td>2.982993</td>\n",
       "      <td>0</td>\n",
       "    </tr>\n",
       "    <tr>\n",
       "      <th>...</th>\n",
       "      <td>...</td>\n",
       "      <td>...</td>\n",
       "      <td>...</td>\n",
       "      <td>...</td>\n",
       "      <td>...</td>\n",
       "      <td>...</td>\n",
       "      <td>...</td>\n",
       "      <td>...</td>\n",
       "      <td>...</td>\n",
       "      <td>...</td>\n",
       "      <td>...</td>\n",
       "      <td>...</td>\n",
       "      <td>...</td>\n",
       "      <td>...</td>\n",
       "    </tr>\n",
       "    <tr>\n",
       "      <th>289</th>\n",
       "      <td>52</td>\n",
       "      <td>1</td>\n",
       "      <td>4</td>\n",
       "      <td>160</td>\n",
       "      <td>331</td>\n",
       "      <td>0</td>\n",
       "      <td>0</td>\n",
       "      <td>94</td>\n",
       "      <td>1</td>\n",
       "      <td>2.5</td>\n",
       "      <td>2.982993</td>\n",
       "      <td>2.982993</td>\n",
       "      <td>2.982993</td>\n",
       "      <td>1</td>\n",
       "    </tr>\n",
       "    <tr>\n",
       "      <th>290</th>\n",
       "      <td>54</td>\n",
       "      <td>0</td>\n",
       "      <td>3</td>\n",
       "      <td>130</td>\n",
       "      <td>294</td>\n",
       "      <td>0</td>\n",
       "      <td>1</td>\n",
       "      <td>100</td>\n",
       "      <td>1</td>\n",
       "      <td>0.0</td>\n",
       "      <td>2</td>\n",
       "      <td>2.982993</td>\n",
       "      <td>2.982993</td>\n",
       "      <td>1</td>\n",
       "    </tr>\n",
       "    <tr>\n",
       "      <th>291</th>\n",
       "      <td>56</td>\n",
       "      <td>1</td>\n",
       "      <td>4</td>\n",
       "      <td>155</td>\n",
       "      <td>342</td>\n",
       "      <td>1</td>\n",
       "      <td>0</td>\n",
       "      <td>150</td>\n",
       "      <td>1</td>\n",
       "      <td>3.0</td>\n",
       "      <td>2</td>\n",
       "      <td>2.982993</td>\n",
       "      <td>2.982993</td>\n",
       "      <td>1</td>\n",
       "    </tr>\n",
       "    <tr>\n",
       "      <th>292</th>\n",
       "      <td>58</td>\n",
       "      <td>0</td>\n",
       "      <td>2</td>\n",
       "      <td>180</td>\n",
       "      <td>393</td>\n",
       "      <td>0</td>\n",
       "      <td>0</td>\n",
       "      <td>110</td>\n",
       "      <td>1</td>\n",
       "      <td>1.0</td>\n",
       "      <td>2</td>\n",
       "      <td>2.982993</td>\n",
       "      <td>7</td>\n",
       "      <td>1</td>\n",
       "    </tr>\n",
       "    <tr>\n",
       "      <th>293</th>\n",
       "      <td>65</td>\n",
       "      <td>1</td>\n",
       "      <td>4</td>\n",
       "      <td>130</td>\n",
       "      <td>275</td>\n",
       "      <td>0</td>\n",
       "      <td>1</td>\n",
       "      <td>115</td>\n",
       "      <td>1</td>\n",
       "      <td>1.0</td>\n",
       "      <td>2</td>\n",
       "      <td>2.982993</td>\n",
       "      <td>2.982993</td>\n",
       "      <td>1</td>\n",
       "    </tr>\n",
       "  </tbody>\n",
       "</table>\n",
       "<p>294 rows × 14 columns</p>\n",
       "</div>"
      ],
      "text/plain": [
       "     age  sex  cp trestbps      chol fbs restecg thalach exang  oldpeak  \\\n",
       "0     28    1   2      130       132   0       2     185     0      0.0   \n",
       "1     29    1   2      120       243   0       0     160     0      0.0   \n",
       "2     29    1   2      140  2.982993   0       0     170     0      0.0   \n",
       "3     30    0   1      170       237   0       1     170     0      0.0   \n",
       "4     31    0   2      100       219   0       1     150     0      0.0   \n",
       "..   ...  ...  ..      ...       ...  ..     ...     ...   ...      ...   \n",
       "289   52    1   4      160       331   0       0      94     1      2.5   \n",
       "290   54    0   3      130       294   0       1     100     1      0.0   \n",
       "291   56    1   4      155       342   1       0     150     1      3.0   \n",
       "292   58    0   2      180       393   0       0     110     1      1.0   \n",
       "293   65    1   4      130       275   0       1     115     1      1.0   \n",
       "\n",
       "        slope        ca      thal  num         \n",
       "0    2.982993  2.982993  2.982993           0  \n",
       "1    2.982993  2.982993  2.982993           0  \n",
       "2    2.982993  2.982993  2.982993           0  \n",
       "3    2.982993  2.982993         6           0  \n",
       "4    2.982993  2.982993  2.982993           0  \n",
       "..        ...       ...       ...         ...  \n",
       "289  2.982993  2.982993  2.982993           1  \n",
       "290         2  2.982993  2.982993           1  \n",
       "291         2  2.982993  2.982993           1  \n",
       "292         2  2.982993         7           1  \n",
       "293         2  2.982993  2.982993           1  \n",
       "\n",
       "[294 rows x 14 columns]"
      ]
     },
     "execution_count": 79,
     "metadata": {},
     "output_type": "execute_result"
    }
   ],
   "source": [
    "heart.replace('?',heart.cp.mean(),inplace = True)\n",
    "heart"
   ]
  },
  {
   "cell_type": "code",
   "execution_count": 80,
   "id": "01127b28-5d9d-4723-85fd-ea71abefc3d6",
   "metadata": {},
   "outputs": [
    {
     "data": {
      "text/plain": [
       "age           0\n",
       "sex           0\n",
       "cp            0\n",
       "trestbps      0\n",
       "chol          0\n",
       "fbs           0\n",
       "restecg       0\n",
       "thalach       0\n",
       "exang         0\n",
       "oldpeak       0\n",
       "slope         0\n",
       "ca            0\n",
       "thal          0\n",
       "num           0\n",
       "dtype: int64"
      ]
     },
     "execution_count": 80,
     "metadata": {},
     "output_type": "execute_result"
    }
   ],
   "source": [
    "heart.isnull().sum() # isnull can be replaced by isna because both means the same"
   ]
  },
  {
   "cell_type": "code",
   "execution_count": 81,
   "id": "7b50053d-8be0-44a9-8e59-3fc766802231",
   "metadata": {},
   "outputs": [
    {
     "data": {
      "text/plain": [
       "<Axes: >"
      ]
     },
     "execution_count": 81,
     "metadata": {},
     "output_type": "execute_result"
    },
    {
     "data": {
      "image/png": "[encoded data removed]",
      "text/plain": [
       "<Figure size 2500x1000 with 3 Axes>"
      ]
     },
     "metadata": {},
     "output_type": "display_data"
    }
   ],
   "source": [
    "msno.bar(heart)#relate this graph with above data"
   ]
  },
  {
   "cell_type": "code",
   "execution_count": 82,
   "id": "ac68afe2-22ee-48bf-bd5b-e7db3159e065",
   "metadata": {},
   "outputs": [
    {
     "data": {
      "text/plain": [
       "(294, 14)"
      ]
     },
     "execution_count": 82,
     "metadata": {},
     "output_type": "execute_result"
    }
   ],
   "source": [
    "heart.shape[0],heart.shape[1]"
   ]
  },
  {
   "cell_type": "code",
   "execution_count": 83,
   "id": "c2066d45-fcf3-41ef-a836-f7d51be16bca",
   "metadata": {},
   "outputs": [
    {
     "data": {
      "text/plain": [
       "0"
      ]
     },
     "execution_count": 83,
     "metadata": {},
     "output_type": "execute_result"
    }
   ],
   "source": [
    "sum(heart.isna().sum())"
   ]
  },
  {
   "cell_type": "code",
   "execution_count": 84,
   "id": "49e3e589-d8fc-495a-9320-d76bcf11fc7b",
   "metadata": {},
   "outputs": [],
   "source": [
    "missing_data = (heart.isna().sum()/heart.shape[0])*100 #Shows how much missing values in each columns\n",
    "missing_data = pd.DataFrame(missing_data)"
   ]
  },
  {
   "cell_type": "code",
   "execution_count": 85,
   "id": "80eebb62-6504-4f0a-b008-34003bba734a",
   "metadata": {},
   "outputs": [
    {
     "data": {
      "text/plain": [
       "Index(['trestbps', 'chol', 'fbs', 'restecg', 'thalach', 'exang', 'slope', 'ca',\n",
       "       'thal'],\n",
       "      dtype='object')"
      ]
     },
     "execution_count": 85,
     "metadata": {},
     "output_type": "execute_result"
    }
   ],
   "source": [
    "string_columns = heart.select_dtypes(include='object').columns\n",
    "string_columns"
   ]
  },
  {
   "cell_type": "markdown",
   "id": "964c32ce-b57c-4ffd-94c4-375f4a3d08fd",
   "metadata": {},
   "source": [
    "## Feature Engineering"
   ]
  },
  {
   "cell_type": "code",
   "execution_count": 86,
   "id": "1b105d50-e1cc-4183-a596-5ea4718ef2fc",
   "metadata": {},
   "outputs": [
    {
     "name": "stdout",
     "output_type": "stream",
     "text": [
      "0\n",
      "0\n",
      "0\n",
      "293\n",
      "271\n",
      "286\n",
      "293\n",
      "293\n",
      "293\n",
      "0\n",
      "104\n",
      "3\n",
      "28\n",
      "0\n"
     ]
    }
   ],
   "source": [
    "for i,j in heart.items():\n",
    "    if i == i:\n",
    "        i = []\n",
    "        for k in j:\n",
    "            if  isinstance(k,str):\n",
    "                i.append(k)\n",
    "        print(len(i))\n",
    "                "
   ]
  },
  {
   "cell_type": "code",
   "execution_count": 87,
   "id": "1875711b-aa6b-400c-902b-e37b05c17cab",
   "metadata": {},
   "outputs": [],
   "source": [
    "for i in heart.columns:\n",
    "    heart[i] = heart[i].astype(int)"
   ]
  },
  {
   "cell_type": "code",
   "execution_count": 88,
   "id": "c7639598-0add-4180-a4ef-c151ea55865b",
   "metadata": {},
   "outputs": [
    {
     "data": {
      "text/plain": [
       "0"
      ]
     },
     "execution_count": 88,
     "metadata": {},
     "output_type": "execute_result"
    }
   ],
   "source": [
    "string_columns = heart.select_dtypes(include='object').columns\n",
    "len(string_columns)"
   ]
  },
  {
   "cell_type": "markdown",
   "id": "e2dd31dc-c701-481c-899c-d0e9fcc39e3d",
   "metadata": {},
   "source": [
    "## Handling outliers"
   ]
  },
  {
   "cell_type": "code",
   "execution_count": 89,
   "id": "eadc3f27-ec86-4ce5-b0f6-c4d41df8e462",
   "metadata": {},
   "outputs": [
    {
     "data": {
      "text/plain": [
       "<Axes: >"
      ]
     },
     "execution_count": 89,
     "metadata": {},
     "output_type": "execute_result"
    },
    {
     "data": {
      "image/png": "[encoded data removed]",
      "text/plain": [
       "<Figure size 1000x600 with 1 Axes>"
      ]
     },
     "metadata": {},
     "output_type": "display_data"
    }
   ],
   "source": [
    "plt.figure(figsize=(10,6))\n",
    "sns.boxplot(heart)"
   ]
  },
  {
   "cell_type": "code",
   "execution_count": 90,
   "id": "9c08bf3e-43f9-4099-9a1d-4c690cf87fbd",
   "metadata": {},
   "outputs": [
    {
     "data": {
      "text/plain": [
       "0.0"
      ]
     },
     "execution_count": 90,
     "metadata": {},
     "output_type": "execute_result"
    }
   ],
   "source": [
    "q1 = heart.oldpeak.quantile(0.25)\n",
    "q1"
   ]
  },
  {
   "cell_type": "code",
   "execution_count": 91,
   "id": "f8e22841-842d-42f6-b948-1c4f76816782",
   "metadata": {},
   "outputs": [
    {
     "data": {
      "text/plain": [
       "1.0"
      ]
     },
     "execution_count": 91,
     "metadata": {},
     "output_type": "execute_result"
    }
   ],
   "source": [
    "q3 = heart.oldpeak.quantile(0.75)\n",
    "q3"
   ]
  },
  {
   "cell_type": "code",
   "execution_count": 92,
   "id": "13e7b478-006d-459f-8729-f8f4a8ae1ec1",
   "metadata": {},
   "outputs": [
    {
     "data": {
      "text/plain": [
       "1.0"
      ]
     },
     "execution_count": 92,
     "metadata": {},
     "output_type": "execute_result"
    }
   ],
   "source": [
    "interquartile_range = q3 - q1\n",
    "interquartile_range"
   ]
  },
  {
   "cell_type": "code",
   "execution_count": 93,
   "id": "f4c957dd-0aa1-4455-8f4b-a6c1ff92f18e",
   "metadata": {},
   "outputs": [
    {
     "data": {
      "text/plain": [
       "-1.5"
      ]
     },
     "execution_count": 93,
     "metadata": {},
     "output_type": "execute_result"
    }
   ],
   "source": [
    "lower_bd = q1 - (1.5*interquartile_range)\n",
    "lower_bd"
   ]
  },
  {
   "cell_type": "code",
   "execution_count": 94,
   "id": "15c8b6cd-c558-46cc-bd1e-35754ddd2dd5",
   "metadata": {},
   "outputs": [
    {
     "data": {
      "text/plain": [
       "2.5"
      ]
     },
     "execution_count": 94,
     "metadata": {},
     "output_type": "execute_result"
    }
   ],
   "source": [
    "upper_bd = q3 + (1.5*interquartile_range)\n",
    "upper_bd"
   ]
  },
  {
   "cell_type": "code",
   "execution_count": 95,
   "id": "2a0ccd79-d814-4266-97b8-c15c8efaab34",
   "metadata": {},
   "outputs": [
    {
     "data": {
      "text/plain": [
       "[3, 4, 5]"
      ]
     },
     "execution_count": 95,
     "metadata": {},
     "output_type": "execute_result"
    }
   ],
   "source": [
    "outlier = []\n",
    "for i in heart.oldpeak:\n",
    "    if i< lower_bd or i>upper_bd:\n",
    "        outlier.append(i)\n",
    "outlier = set(outlier)\n",
    "outlier = list(outlier)\n",
    "outlier"
   ]
  },
  {
   "cell_type": "code",
   "execution_count": 96,
   "id": "047c44ed-b264-48df-acfb-964a3f94f8d5",
   "metadata": {},
   "outputs": [
    {
     "data": {
      "text/plain": [
       "0.5476190476190477"
      ]
     },
     "execution_count": 96,
     "metadata": {},
     "output_type": "execute_result"
    }
   ],
   "source": [
    "outlier_rpl = heart.oldpeak.mean()\n",
    "outlier_rpl"
   ]
  },
  {
   "cell_type": "code",
   "execution_count": 97,
   "id": "e9756826-5582-47a3-b674-e38068062fe2",
   "metadata": {},
   "outputs": [
    {
     "name": "stderr",
     "output_type": "stream",
     "text": [
      "C:\\Users\\bavit\\AppData\\Local\\Temp\\ipykernel_10792\\3239571729.py:1: FutureWarning: A value is trying to be set on a copy of a DataFrame or Series through chained assignment using an inplace method.\n",
      "The behavior will change in pandas 3.0. This inplace method will never work because the intermediate object on which we are setting values always behaves as a copy.\n",
      "\n",
      "For example, when doing 'df[col].method(value, inplace=True)', try using 'df.method({col: value}, inplace=True)' or df[col] = df[col].method(value) instead, to perform the operation inplace on the original object.\n",
      "\n",
      "\n",
      "  heart.oldpeak.replace(outlier,outlier_rpl,inplace=True)\n"
     ]
    }
   ],
   "source": [
    "heart.oldpeak.replace(outlier,outlier_rpl,inplace=True)   "
   ]
  },
  {
   "cell_type": "code",
   "execution_count": 98,
   "id": "e659598a-08d1-4be3-8423-904602e691be",
   "metadata": {},
   "outputs": [
    {
     "data": {
      "text/plain": [
       "Index(['age', 'sex', 'cp', 'trestbps', 'chol', 'fbs', 'restecg', 'thalach',\n",
       "       'exang', 'oldpeak', 'slope', 'ca', 'thal', 'target'],\n",
       "      dtype='object')"
      ]
     },
     "execution_count": 98,
     "metadata": {},
     "output_type": "execute_result"
    }
   ],
   "source": [
    "heart.rename(columns = {'num       ' : 'target'},inplace = True)\n",
    "heart.columns"
   ]
  },
  {
   "cell_type": "code",
   "execution_count": 38,
   "id": "f19a302c-bef9-4acd-83bf-f0acce5eba92",
   "metadata": {},
   "outputs": [
    {
     "data": {
      "text/plain": [
       "Index(['target'], dtype='object')"
      ]
     },
     "execution_count": 38,
     "metadata": {},
     "output_type": "execute_result"
    }
   ],
   "source": [
    "heart['target'] = heart[\"target\"].astype(str)\n",
    "heart.select_dtypes(include = 'object').columns"
   ]
  },
  {
   "cell_type": "code",
   "execution_count": 39,
   "id": "2691e4cd-af2f-4f33-9492-b1473cbdcd1c",
   "metadata": {},
   "outputs": [],
   "source": [
    "X = heart.drop(\"target\",axis = 1)\n",
    "y = heart.target"
   ]
  },
  {
   "cell_type": "markdown",
   "id": "23aceabe-e358-4f15-9f76-8bbcebe93708",
   "metadata": {},
   "source": [
    "## Data Visualization"
   ]
  },
  {
   "cell_type": "code",
   "execution_count": 40,
   "id": "55862420-1172-406c-89a5-31346135871b",
   "metadata": {
    "scrolled": true
   },
   "outputs": [
    {
     "data": {
      "text/plain": [
       "<Axes: >"
      ]
     },
     "execution_count": 40,
     "metadata": {},
     "output_type": "execute_result"
    },
    {
     "data": {
      "image/png": "[encoded data removed]",
      "text/plain": [
       "<Figure size 1000x600 with 1 Axes>"
      ]
     },
     "metadata": {},
     "output_type": "display_data"
    }
   ],
   "source": [
    "plt.figure(figsize=(10,6))\n",
    "sns.boxplot(heart)"
   ]
  },
  {
   "cell_type": "code",
   "execution_count": 41,
   "id": "90ec04e5-07c9-41cd-a6f1-3e0d2317a5ee",
   "metadata": {},
   "outputs": [
    {
     "data": {
      "text/plain": [
       "2"
      ]
     },
     "execution_count": 41,
     "metadata": {},
     "output_type": "execute_result"
    },
    {
     "data": {
      "image/png": "[encoded data removed]",
      "text/plain": [
       "<Figure size 640x480 with 1 Axes>"
      ]
     },
     "metadata": {},
     "output_type": "display_data"
    }
   ],
   "source": [
    "sns.scatterplot(x= \"age\",y = \"trestbps\",data = heart,hue = \"sex\" )\n",
    "heart.trestbps.min()"
   ]
  },
  {
   "cell_type": "code",
   "execution_count": 42,
   "id": "94eca267-e28f-43db-b033-378014ea375c",
   "metadata": {},
   "outputs": [
    {
     "data": {
      "text/plain": [
       "(2.0,\n",
       " count    294.000000\n",
       " mean       0.445659\n",
       " std        0.686055\n",
       " min        0.000000\n",
       " 25%        0.000000\n",
       " 50%        0.000000\n",
       " 75%        1.000000\n",
       " max        2.000000\n",
       " Name: oldpeak, dtype: float64)"
      ]
     },
     "execution_count": 42,
     "metadata": {},
     "output_type": "execute_result"
    }
   ],
   "source": [
    "w11 = heart.oldpeak.quantile(1.0)\n",
    "w11,heart.oldpeak.describe()"
   ]
  },
  {
   "cell_type": "code",
   "execution_count": 43,
   "id": "e3cff9eb-e1bb-41ac-8beb-3a1760f07d30",
   "metadata": {},
   "outputs": [
    {
     "data": {
      "text/plain": [
       "131.02380952380952"
      ]
     },
     "execution_count": 43,
     "metadata": {},
     "output_type": "execute_result"
    },
    {
     "data": {
      "image/png": "[encoded data removed]",
      "text/plain": [
       "<Figure size 640x480 with 1 Axes>"
      ]
     },
     "metadata": {},
     "output_type": "display_data"
    }
   ],
   "source": [
    "target_0 = heart[heart[\"target\"] == \"0\"]\n",
    "sns.violinplot(x = 'oldpeak',y = \"target\",data = target_0)\n",
    "sum(heart.oldpeak)"
   ]
  },
  {
   "cell_type": "markdown",
   "id": "9a5974ca-fbc0-4bb4-a040-e47cabc3029b",
   "metadata": {},
   "source": [
    "# Model Building"
   ]
  },
  {
   "cell_type": "markdown",
   "id": "38c2b62c-8966-48ca-8e21-9fb9bd7e2b4a",
   "metadata": {},
   "source": [
    "## Train Test Split"
   ]
  },
  {
   "cell_type": "code",
   "execution_count": 44,
   "id": "3185ddc3-5ede-448e-95f3-77f4b9650432",
   "metadata": {},
   "outputs": [
    {
     "data": {
      "text/plain": [
       "((294, 14), 294)"
      ]
     },
     "execution_count": 44,
     "metadata": {},
     "output_type": "execute_result"
    }
   ],
   "source": [
    "heart.shape,len(heart)"
   ]
  },
  {
   "cell_type": "code",
   "execution_count": 45,
   "id": "23be5d97-03e1-477d-bc9f-7c30fca93157",
   "metadata": {},
   "outputs": [],
   "source": [
    "# percentage30 = int((30*294)/100)+1\n",
    "# percentage70 = int((70*294)/100)\n",
    "# print(percentage30,percentage70,percentage30+percentage70)"
   ]
  },
  {
   "cell_type": "markdown",
   "id": "2266a25c-3a1c-441b-9a41-7d8128c64707",
   "metadata": {},
   "source": [
    "<b>Basic train test split code</b>"
   ]
  },
  {
   "cell_type": "markdown",
   "id": "05d41dbc-e90c-45af-9401-c33f9d679e49",
   "metadata": {},
   "source": [
    "<b>With Random state</b>"
   ]
  },
  {
   "cell_type": "code",
   "execution_count": 46,
   "id": "7aaaa690-a8d1-4ab4-b791-bbf74570720a",
   "metadata": {},
   "outputs": [],
   "source": [
    "test_size = 0.2\n",
    "random_state = 10\n",
    "def manualTts(X,y,test_size = 0.3,random_state = None):\n",
    "    if random_state:\n",
    "        np.random.seed(random_state)\n",
    "    \n",
    "    shuffled_indices = np.random.permutation(len(X))\n",
    "    test_size = int(len(X)*test_size)\n",
    "    test_indices = shuffled_indices[:test_size]\n",
    "    train_indices = shuffled_indices[test_size:]\n",
    "    x_train = X.iloc[test_size:]\n",
    "    x_test = X.iloc[:test_size]\n",
    "    y_train = y.iloc[test_size:]\n",
    "    y_test = y.iloc[:test_size]\n",
    "    return x_train,x_test,y_train,y_test\n",
    "x_train,x_test,y_train,y_test = manualTts(X,y,test_size,random_state)"
   ]
  },
  {
   "cell_type": "markdown",
   "id": "b748d2de-0251-469f-97d8-29e0b7fc35eb",
   "metadata": {},
   "source": [
    "<b>Without Random State</b>"
   ]
  },
  {
   "cell_type": "code",
   "execution_count": 47,
   "id": "5f6c5827-a167-4690-8a8d-0140fc39f228",
   "metadata": {},
   "outputs": [],
   "source": [
    "# def manualTts(X,y,test_size = 0.3):\n",
    "#     test_size = int(len(X)*test_size)t\n",
    "#     x_train = X.iloc[test_size:]\n",
    "#     # x_train =np.random.permutation(x_train)\n",
    "#     x_test = X.iloc[:test_size]\n",
    "#     y_train = y.iloc[test_size:]\n",
    "#     y_test = y.iloc[:test_size]\n",
    "#     return x_train,x_test,y_train,y_test\n",
    "# x_train,x_test,y_train,y_test = manualTts(X,y,test_size)\n",
    "# y_train.shape,y_test.shape\n",
    "# # print(x_train)"
   ]
  },
  {
   "cell_type": "code",
   "execution_count": 48,
   "id": "44a43cd4-6216-4ed3-98b6-35f4feeafef1",
   "metadata": {},
   "outputs": [
    {
     "data": {
      "text/plain": [
       "((236, 13), (58, 13), (236,), (58,))"
      ]
     },
     "execution_count": 48,
     "metadata": {},
     "output_type": "execute_result"
    }
   ],
   "source": [
    "x_train.shape,x_test.shape,y_train.shape,y_test.shape"
   ]
  },
  {
   "cell_type": "code",
   "execution_count": 49,
   "id": "a384eba9-8390-44ed-9d82-a0691df4ddb2",
   "metadata": {},
   "outputs": [
    {
     "data": {
      "text/plain": [
       "289    1\n",
       "290    1\n",
       "291    1\n",
       "292    1\n",
       "293    1\n",
       "Name: target, dtype: object"
      ]
     },
     "execution_count": 49,
     "metadata": {},
     "output_type": "execute_result"
    }
   ],
   "source": [
    "y_train.tail()"
   ]
  },
  {
   "cell_type": "markdown",
   "id": "5970869d-b1ca-4d11-8bbf-ef85ede5ac32",
   "metadata": {},
   "source": [
    "* Proer train test split by using library"
   ]
  },
  {
   "cell_type": "code",
   "execution_count": 50,
   "id": "86bddbf6-3c4d-400b-9d3d-61fd9fb9e859",
   "metadata": {},
   "outputs": [],
   "source": [
    "# X_train,X_test,y_train,y_test = train_test_split(X,y,test_size=0.3,random_state=10)\n",
    "# scaler = StandardScaler()\n",
    "# X_train = scaler.fit_transform(X_train)\n",
    "# X_test = scaler.transform(X_test)\n",
    "# X_train.shape,X_test.shape,y_train.shape,y_test.shape"
   ]
  },
  {
   "cell_type": "markdown",
   "id": "8591ed31-377b-464a-8961-1c731d30ca25",
   "metadata": {},
   "source": [
    "## Model Initialization"
   ]
  },
  {
   "cell_type": "code",
   "execution_count": 51,
   "id": "b960228a-e446-4b91-8ada-0917a5f048fa",
   "metadata": {},
   "outputs": [],
   "source": [
    "model = {\n",
    "    \"KNN Algorithm\" : KNeighborsClassifier(),\n",
    "    \"Logistic Regression\" : LogisticRegression(max_iter=1000),\n",
    "    \"Multinomial Naive-Bayes\" : MultinomialNB()\n",
    "}"
   ]
  },
  {
   "cell_type": "markdown",
   "id": "9a6a871d-1391-49a8-8763-b97a03c21584",
   "metadata": {},
   "source": [
    "## Model Training"
   ]
  },
  {
   "cell_type": "code",
   "execution_count": 52,
   "id": "4ff277d1-3572-419a-9389-f3887ad2b708",
   "metadata": {},
   "outputs": [],
   "source": [
    "def fitModel(X_train, X_test, y_train, y_test, model):\n",
    "    accuracy_result = {}\n",
    "    for name,model_name in tqdm(model.items()):\n",
    "        model_name.fit(X_train,y_train)\n",
    "        y_pred = model_name.predict(X_test)\n",
    "        accuracy = accuracy_score(y_test,y_pred)\n",
    "        accuracy_result[name] = {\n",
    "            \"Accuracy\" : accuracy\n",
    "        }\n",
    "\n",
    "    return accuracy_result,y_pred\n",
    "            "
   ]
  },
  {
   "cell_type": "code",
   "execution_count": 53,
   "id": "c7824f7c-6ada-4834-9d1a-51afdf6f48f7",
   "metadata": {},
   "outputs": [
    {
     "name": "stderr",
     "output_type": "stream",
     "text": [
      "100%|████████████████████████████████████████████████████████████████████████████████████| 3/3 [00:00<00:00, 21.47it/s]\n"
     ]
    }
   ],
   "source": [
    "accuracy_result,pred = fitModel(x_train, x_test, y_train, y_test, model)"
   ]
  },
  {
   "cell_type": "code",
   "execution_count": 54,
   "id": "345fabb3-0998-49be-a9d9-98b5a2d618cc",
   "metadata": {},
   "outputs": [],
   "source": [
    "# knn_model.fit(X_train,y_train)"
   ]
  },
  {
   "cell_type": "code",
   "execution_count": 55,
   "id": "1e06c372-b7ac-4f31-8017-f21a900f34f2",
   "metadata": {},
   "outputs": [
    {
     "data": {
      "text/plain": [
       "{'KNN Algorithm': {'Accuracy': 0.6896551724137931},\n",
       " 'Logistic Regression': {'Accuracy': 0.8275862068965517},\n",
       " 'Multinomial Naive-Bayes': {'Accuracy': 0.6724137931034483}}"
      ]
     },
     "execution_count": 55,
     "metadata": {},
     "output_type": "execute_result"
    }
   ],
   "source": [
    "accuracy_result"
   ]
  },
  {
   "cell_type": "markdown",
   "id": "b8657d56-0cd2-4a18-9e29-a5ee29b83ccc",
   "metadata": {},
   "source": [
    "## Hyper Parameter Tunning"
   ]
  },
  {
   "cell_type": "markdown",
   "id": "3ebb7558-cc4e-4f60-a67b-bc985eda6c01",
   "metadata": {},
   "source": [
    "# Evaluation and Result"
   ]
  },
  {
   "cell_type": "code",
   "execution_count": 56,
   "id": "f4583305-d2b8-409a-8283-8d6a2d4d1c86",
   "metadata": {},
   "outputs": [
    {
     "name": "stdout",
     "output_type": "stream",
     "text": [
      "KNN Algorithm -----> {'Accuracy': 0.6896551724137931}\n",
      "Logistic Regression -----> {'Accuracy': 0.8275862068965517}\n",
      "Multinomial Naive-Bayes -----> {'Accuracy': 0.6724137931034483}\n"
     ]
    }
   ],
   "source": [
    "for ModelName,ModelValue in accuracy_result.items():\n",
    "    print(ModelName,\"----->\",ModelValue )"
   ]
  },
  {
   "cell_type": "code",
   "execution_count": 57,
   "id": "198f8422-9ffa-4009-9215-b41506a5a4a3",
   "metadata": {},
   "outputs": [],
   "source": [
    "# y_pred = knn_model.predict(X_test)\n",
    "# y_pred"
   ]
  },
  {
   "cell_type": "code",
   "execution_count": 58,
   "id": "4e80ebfd-6a51-4351-8d43-3e1b396b92c9",
   "metadata": {},
   "outputs": [],
   "source": [
    "# accuracy = accuracy_score(y_test, y_pred)\n",
    "# accuracy"
   ]
  },
  {
   "cell_type": "code",
   "execution_count": 59,
   "id": "35266f72-aca6-4a1d-8a05-589791ead47d",
   "metadata": {},
   "outputs": [
    {
     "name": "stdout",
     "output_type": "stream",
     "text": [
      "0.6724137931034483\n",
      "[[39 19]\n",
      " [ 0  0]]\n",
      "              precision    recall  f1-score   support\n",
      "\n",
      "           0       1.00      0.67      0.80        58\n",
      "           1       0.00      0.00      0.00         0\n",
      "\n",
      "    accuracy                           0.67        58\n",
      "   macro avg       0.50      0.34      0.40        58\n",
      "weighted avg       1.00      0.67      0.80        58\n",
      "\n"
     ]
    },
    {
     "name": "stderr",
     "output_type": "stream",
     "text": [
      "C:\\Users\\bavit\\anaconda3\\Lib\\site-packages\\sklearn\\metrics\\_classification.py:1509: UndefinedMetricWarning: Recall is ill-defined and being set to 0.0 in labels with no true samples. Use `zero_division` parameter to control this behavior.\n",
      "  _warn_prf(average, modifier, f\"{metric.capitalize()} is\", len(result))\n",
      "C:\\Users\\bavit\\anaconda3\\Lib\\site-packages\\sklearn\\metrics\\_classification.py:1509: UndefinedMetricWarning: Recall is ill-defined and being set to 0.0 in labels with no true samples. Use `zero_division` parameter to control this behavior.\n",
      "  _warn_prf(average, modifier, f\"{metric.capitalize()} is\", len(result))\n",
      "C:\\Users\\bavit\\anaconda3\\Lib\\site-packages\\sklearn\\metrics\\_classification.py:1509: UndefinedMetricWarning: Recall is ill-defined and being set to 0.0 in labels with no true samples. Use `zero_division` parameter to control this behavior.\n",
      "  _warn_prf(average, modifier, f\"{metric.capitalize()} is\", len(result))\n"
     ]
    }
   ],
   "source": [
    "print(accuracy_score(y_test,pred))\n",
    "print(confusion_matrix(y_test,pred))\n",
    "print(classification_report(y_test,pred))"
   ]
  },
  {
   "cell_type": "code",
   "execution_count": 60,
   "id": "5a058ab0-785e-4368-a0be-832bf082872f",
   "metadata": {},
   "outputs": [
    {
     "data": {
      "text/plain": [
       "Text(0.5, 1.0, 'Confusion Matrix')"
      ]
     },
     "execution_count": 60,
     "metadata": {},
     "output_type": "execute_result"
    },
    {
     "data": {
      "image/png": "[encoded data removed]",
      "text/plain": [
       "<Figure size 640x480 with 2 Axes>"
      ]
     },
     "metadata": {},
     "output_type": "display_data"
    }
   ],
   "source": [
    "Conf_matrix = confusion_matrix(y_test,pred)\n",
    "sns.heatmap(Conf_matrix,annot=True)\n",
    "plt.xlabel(\"Actual Value\")\n",
    "plt.ylabel(\"Predicted Value\")\n",
    "plt.title(\"Confusion Matrix\")"
   ]
  }
 ],
 "metadata": {
  "kernelspec": {
   "display_name": "Python 3 (ipykernel)",
   "language": "python",
   "name": "python3"
  },
  "language_info": {
   "codemirror_mode": {
    "name": "ipython",
    "version": 3
   },
   "file_extension": ".py",
   "mimetype": "text/x-python",
   "name": "python",
   "nbconvert_exporter": "python",
   "pygments_lexer": "ipython3",
   "version": "3.12.4"
  }
 },
 "nbformat": 4,
 "nbformat_minor": 5
}
